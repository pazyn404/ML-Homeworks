{
 "cells": [
  {
   "cell_type": "markdown",
   "id": "ec65942e",
   "metadata": {},
   "source": [
    "# Car Price Prediction Multiple Linear Regression"
   ]
  },
  {
   "cell_type": "markdown",
   "id": "6cce7c30",
   "metadata": {},
   "source": [
    "Розділи:\n",
    "    1) Нормалізація даних\n",
    "    2) Аналіз і підготовка датасету\n",
    "    3) Передбачення ціни\n",
    "    4) Висновок"
   ]
  },
  {
   "cell_type": "code",
   "execution_count": 2,
   "id": "30553a83",
   "metadata": {},
   "outputs": [],
   "source": [
    "import numpy as np # linear algebra\n",
    "import pandas as pd # data processing, CSV file I/O (e.g. pd.read_csv)\n",
    "import matplotlib.pyplot as plt\n",
    "%matplotlib inline"
   ]
  },
  {
   "cell_type": "markdown",
   "id": "c05386c7",
   "metadata": {},
   "source": [
    "# Нормалізація даних:"
   ]
  },
  {
   "cell_type": "code",
   "execution_count": 10,
   "id": "a136986b",
   "metadata": {},
   "outputs": [],
   "source": [
    "car_data = pd.read_csv(\"CarPrice_Assignment.csv\")"
   ]
  },
  {
   "cell_type": "code",
   "execution_count": 11,
   "id": "2231e7f0",
   "metadata": {},
   "outputs": [
    {
     "data": {
      "text/plain": [
       "<AxesSubplot:>"
      ]
     },
     "execution_count": 11,
     "metadata": {},
     "output_type": "execute_result"
    },
    {
     "data": {
      "image/png": "[encoded data removed]",
      "text/plain": [
       "<Figure size 432x288 with 1 Axes>"
      ]
     },
     "metadata": {
      "needs_background": "light"
     },
     "output_type": "display_data"
    }
   ],
   "source": [
    "car_data['price'].hist()"
   ]
  },
  {
   "cell_type": "markdown",
   "id": "1d60575d",
   "metadata": {},
   "source": [
    "Гістограма розподілу цін на автівки"
   ]
  },
  {
   "cell_type": "markdown",
   "id": "68edb5e8",
   "metadata": {},
   "source": [
    "Перевіримо ціни на нормальний розподіл:"
   ]
  },
  {
   "cell_type": "code",
   "execution_count": 12,
   "id": "0aa3880f",
   "metadata": {},
   "outputs": [
    {
     "data": {
      "text/plain": [
       "NormaltestResult(statistic=77.37514013383584, pvalue=1.578344501676757e-17)"
      ]
     },
     "execution_count": 12,
     "metadata": {},
     "output_type": "execute_result"
    }
   ],
   "source": [
    "from scipy.stats.mstats import normaltest\n",
    "normaltest(car_data['price'])"
   ]
  },
  {
   "cell_type": "markdown",
   "id": "2f5f9486",
   "metadata": {},
   "source": [
    "Надто низьке значення pvalue свідчить про поганий розподіл по ціні. "
   ]
  },
  {
   "cell_type": "markdown",
   "id": "b4d24926",
   "metadata": {},
   "source": [
    "Займемось нормалізацією:"
   ]
  },
  {
   "cell_type": "code",
   "execution_count": 22,
   "id": "0e447ac5",
   "metadata": {},
   "outputs": [
    {
     "data": {
      "text/plain": [
       "(array([ 9., 11., 27., 35., 24., 22., 28., 26.,  8., 15.]),\n",
       " array([1.58469779, 1.58525393, 1.58581007, 1.58636621, 1.58692236,\n",
       "        1.5874785 , 1.58803464, 1.58859078, 1.58914692, 1.58970306,\n",
       "        1.5902592 ]),\n",
       " <BarContainer object of 10 artists>)"
      ]
     },
     "execution_count": 22,
     "metadata": {},
     "output_type": "execute_result"
    },
    {
     "data": {
      "image/png": "[encoded data removed]",
      "text/plain": [
       "<Figure size 432x288 with 1 Axes>"
      ]
     },
     "metadata": {
      "needs_background": "light"
     },
     "output_type": "display_data"
    }
   ],
   "source": [
    "from scipy.stats import boxcox\n",
    "bc_result = boxcox(car_data['price'])\n",
    "boxcox_target = bc_result[0]\n",
    "plt.hist(boxcox_target)"
   ]
  },
  {
   "cell_type": "markdown",
   "id": "cfc33007",
   "metadata": {},
   "source": [
    "Гістаграма нового розподілу цін"
   ]
  },
  {
   "cell_type": "code",
   "execution_count": 23,
   "id": "53c2f7d7",
   "metadata": {},
   "outputs": [
    {
     "data": {
      "text/plain": [
       "NormaltestResult(statistic=16.727142005583726, pvalue=0.00023321005129893173)"
      ]
     },
     "execution_count": 23,
     "metadata": {},
     "output_type": "execute_result"
    }
   ],
   "source": [
    "normaltest(boxcox_target)"
   ]
  },
  {
   "cell_type": "markdown",
   "id": "2abb0fd2",
   "metadata": {},
   "source": [
    "Ситуація значно покращилась!"
   ]
  },
  {
   "cell_type": "markdown",
   "id": "070e2c26",
   "metadata": {},
   "source": [
    "# Аналіз і підготовка датасету"
   ]
  },
  {
   "cell_type": "markdown",
   "id": "daa83f41",
   "metadata": {},
   "source": [
    "Всі змінні датасету:"
   ]
  },
  {
   "cell_type": "code",
   "execution_count": 27,
   "id": "e77d1276",
   "metadata": {},
   "outputs": [
    {
     "data": {
      "text/plain": [
       "car_ID                int64\n",
       "symboling             int64\n",
       "CarName              object\n",
       "fueltype             object\n",
       "aspiration           object\n",
       "doornumber           object\n",
       "carbody              object\n",
       "drivewheel           object\n",
       "enginelocation       object\n",
       "wheelbase           float64\n",
       "carlength           float64\n",
       "carwidth            float64\n",
       "carheight           float64\n",
       "curbweight            int64\n",
       "enginetype           object\n",
       "cylindernumber       object\n",
       "enginesize            int64\n",
       "fuelsystem           object\n",
       "boreratio           float64\n",
       "stroke              float64\n",
       "compressionratio    float64\n",
       "horsepower            int64\n",
       "peakrpm               int64\n",
       "citympg               int64\n",
       "highwaympg            int64\n",
       "price               float64\n",
       "car_company          object\n",
       "dtype: object"
      ]
     },
     "execution_count": 27,
     "metadata": {},
     "output_type": "execute_result"
    }
   ],
   "source": [
    "car_data.dtypes"
   ]
  },
  {
   "cell_type": "markdown",
   "id": "4cfee06b",
   "metadata": {},
   "source": [
    "Назва компанії, яка випускає авто і марка авто співпадають, тому зробимо наступне:"
   ]
  },
  {
   "cell_type": "code",
   "execution_count": 26,
   "id": "12cdbedb",
   "metadata": {},
   "outputs": [],
   "source": [
    "car_data['car_company'] = car_data['CarName'].str.split(' ',expand=True).iloc[:,[0]]"
   ]
  },
  {
   "cell_type": "markdown",
   "id": "9573fe0a",
   "metadata": {},
   "source": [
    "Список марок авто:"
   ]
  },
  {
   "cell_type": "code",
   "execution_count": 25,
   "id": "39c80194",
   "metadata": {},
   "outputs": [
    {
     "data": {
      "text/plain": [
       "array(['alfa-romero', 'audi', 'bmw', 'chevrolet', 'dodge', 'honda',\n",
       "       'isuzu', 'jaguar', 'maxda', 'mazda', 'buick', 'mercury',\n",
       "       'mitsubishi', 'Nissan', 'nissan', 'peugeot', 'plymouth', 'porsche',\n",
       "       'porcshce', 'renault', 'saab', 'subaru', 'toyota', 'toyouta',\n",
       "       'vokswagen', 'volkswagen', 'vw', 'volvo'], dtype=object)"
      ]
     },
     "execution_count": 25,
     "metadata": {},
     "output_type": "execute_result"
    }
   ],
   "source": [
    "car_data['car_company'].unique()"
   ]
  },
  {
   "cell_type": "markdown",
   "id": "5322ef06",
   "metadata": {},
   "source": [
    "Замітимо, що тут є назви 'близнюки', виправимо це: "
   ]
  },
  {
   "cell_type": "code",
   "execution_count": 28,
   "id": "b13a6a4d",
   "metadata": {},
   "outputs": [
    {
     "data": {
      "text/plain": [
       "array(['alfa-romero', 'audi', 'bmw', 'chevrolet', 'dodge', 'honda',\n",
       "       'isuzu', 'jaguar', 'mazda', 'buick', 'mercury', 'mitsubishi',\n",
       "       'Nissan', 'peugeot', 'plymouth', 'porsche', 'renault', 'saab',\n",
       "       'subaru', 'toyota', 'volkswagen', 'volvo'], dtype=object)"
      ]
     },
     "execution_count": 28,
     "metadata": {},
     "output_type": "execute_result"
    }
   ],
   "source": [
    "car_data['car_company'] = car_data['car_company'].replace({'maxda': 'mazda', 'nissan': 'Nissan', 'porcshce': 'porsche', 'toyouta': 'toyota', \n",
    "                            'vokswagen': 'volkswagen', 'vw': 'volkswagen'})\n",
    "\n",
    "##Found this code in this notebook : https://www.kaggle.com/hellbuoy/carprice-prediction-mlr-rfe-vif\n",
    "car_data['car_company'].unique()"
   ]
  },
  {
   "cell_type": "code",
   "execution_count": 30,
   "id": "5d4d6a1f",
   "metadata": {},
   "outputs": [
    {
     "data": {
      "image/png": "[encoded data removed]",
      "text/plain": [
       "<Figure size 432x288 with 1 Axes>"
      ]
     },
     "metadata": {
      "needs_background": "light"
     },
     "output_type": "display_data"
    }
   ],
   "source": [
    "import seaborn as sns\n",
    "sns.boxplot(x=car_data[\"car_company\"], y=car_data[\"price\"])\n",
    "plt.rcParams[\"figure.figsize\"] = (20,10)\n",
    "plt.show()"
   ]
  },
  {
   "cell_type": "markdown",
   "id": "6bf3f8ed",
   "metadata": {},
   "source": [
    "Зверху на графіку бачимо, що майже завжди компанія випускає авто в неперервному ціновому діапазоні - це важливо для правильної побудови моделі."
   ]
  },
  {
   "cell_type": "code",
   "execution_count": 43,
   "id": "711b7b60",
   "metadata": {},
   "outputs": [
    {
     "data": {
      "text/html": [
       "<div>\n",
       "<style scoped>\n",
       "    .dataframe tbody tr th:only-of-type {\n",
       "        vertical-align: middle;\n",
       "    }\n",
       "\n",
       "    .dataframe tbody tr th {\n",
       "        vertical-align: top;\n",
       "    }\n",
       "\n",
       "    .dataframe thead th {\n",
       "        text-align: right;\n",
       "    }\n",
       "</style>\n",
       "<table border=\"1\" class=\"dataframe\">\n",
       "  <thead>\n",
       "    <tr style=\"text-align: right;\">\n",
       "      <th></th>\n",
       "      <th>0</th>\n",
       "      <th>1</th>\n",
       "      <th>2</th>\n",
       "      <th>3</th>\n",
       "      <th>4</th>\n",
       "    </tr>\n",
       "  </thead>\n",
       "  <tbody>\n",
       "    <tr>\n",
       "      <th>0</th>\n",
       "      <td>alfa-romero</td>\n",
       "      <td>giulia</td>\n",
       "      <td>None</td>\n",
       "      <td>None</td>\n",
       "      <td>None</td>\n",
       "    </tr>\n",
       "    <tr>\n",
       "      <th>1</th>\n",
       "      <td>alfa-romero</td>\n",
       "      <td>stelvio</td>\n",
       "      <td>None</td>\n",
       "      <td>None</td>\n",
       "      <td>None</td>\n",
       "    </tr>\n",
       "    <tr>\n",
       "      <th>2</th>\n",
       "      <td>alfa-romero</td>\n",
       "      <td>Quadrifoglio</td>\n",
       "      <td>None</td>\n",
       "      <td>None</td>\n",
       "      <td>None</td>\n",
       "    </tr>\n",
       "    <tr>\n",
       "      <th>3</th>\n",
       "      <td>audi</td>\n",
       "      <td>100</td>\n",
       "      <td>ls</td>\n",
       "      <td>None</td>\n",
       "      <td>None</td>\n",
       "    </tr>\n",
       "    <tr>\n",
       "      <th>4</th>\n",
       "      <td>audi</td>\n",
       "      <td>100ls</td>\n",
       "      <td>None</td>\n",
       "      <td>None</td>\n",
       "      <td>None</td>\n",
       "    </tr>\n",
       "    <tr>\n",
       "      <th>...</th>\n",
       "      <td>...</td>\n",
       "      <td>...</td>\n",
       "      <td>...</td>\n",
       "      <td>...</td>\n",
       "      <td>...</td>\n",
       "    </tr>\n",
       "    <tr>\n",
       "      <th>200</th>\n",
       "      <td>volvo</td>\n",
       "      <td>145e</td>\n",
       "      <td>(sw)</td>\n",
       "      <td>None</td>\n",
       "      <td>None</td>\n",
       "    </tr>\n",
       "    <tr>\n",
       "      <th>201</th>\n",
       "      <td>volvo</td>\n",
       "      <td>144ea</td>\n",
       "      <td>None</td>\n",
       "      <td>None</td>\n",
       "      <td>None</td>\n",
       "    </tr>\n",
       "    <tr>\n",
       "      <th>202</th>\n",
       "      <td>volvo</td>\n",
       "      <td>244dl</td>\n",
       "      <td>None</td>\n",
       "      <td>None</td>\n",
       "      <td>None</td>\n",
       "    </tr>\n",
       "    <tr>\n",
       "      <th>203</th>\n",
       "      <td>volvo</td>\n",
       "      <td>246</td>\n",
       "      <td>None</td>\n",
       "      <td>None</td>\n",
       "      <td>None</td>\n",
       "    </tr>\n",
       "    <tr>\n",
       "      <th>204</th>\n",
       "      <td>volvo</td>\n",
       "      <td>264gl</td>\n",
       "      <td>None</td>\n",
       "      <td>None</td>\n",
       "      <td>None</td>\n",
       "    </tr>\n",
       "  </tbody>\n",
       "</table>\n",
       "<p>205 rows × 5 columns</p>\n",
       "</div>"
      ],
      "text/plain": [
       "               0             1     2     3     4\n",
       "0    alfa-romero        giulia  None  None  None\n",
       "1    alfa-romero       stelvio  None  None  None\n",
       "2    alfa-romero  Quadrifoglio  None  None  None\n",
       "3           audi           100    ls  None  None\n",
       "4           audi         100ls  None  None  None\n",
       "..           ...           ...   ...   ...   ...\n",
       "200        volvo          145e  (sw)  None  None\n",
       "201        volvo         144ea  None  None  None\n",
       "202        volvo         244dl  None  None  None\n",
       "203        volvo           246  None  None  None\n",
       "204        volvo         264gl  None  None  None\n",
       "\n",
       "[205 rows x 5 columns]"
      ]
     },
     "execution_count": 43,
     "metadata": {},
     "output_type": "execute_result"
    }
   ],
   "source": [
    "x = car_data['CarName'].str.split(' ',expand=True)\n",
    "x"
   ]
  },
  {
   "cell_type": "markdown",
   "id": "20452f92",
   "metadata": {},
   "source": [
    "На таблиці зверху видно шум, виберемо сутт'єві параметри і помістимо вибірку з них в нову змінну(dummies):"
   ]
  },
  {
   "cell_type": "code",
   "execution_count": 44,
   "id": "5bf01516",
   "metadata": {},
   "outputs": [],
   "source": [
    "categorical_features = ['car_company','fueltype','aspiration','doornumber','drivewheel','enginelocation','fuelsystem','enginetype','cylindernumber','carbody']\n",
    "# Get the dummy variables for the categorical feature and store it in a new variable - 'dummies'\n",
    "\n",
    "dummies = pd.get_dummies(car_data[categorical_features])"
   ]
  },
  {
   "cell_type": "markdown",
   "id": "1a87fb13",
   "metadata": {},
   "source": [
    "Поділимо машини на три класи(по вартості):\n"
   ]
  },
  {
   "cell_type": "code",
   "execution_count": 39,
   "id": "bbb81e5a",
   "metadata": {},
   "outputs": [
    {
     "data": {
      "text/plain": [
       "count      205.000000\n",
       "mean     13276.710571\n",
       "std       7988.852332\n",
       "min       5118.000000\n",
       "25%       7788.000000\n",
       "50%      10295.000000\n",
       "75%      16503.000000\n",
       "max      45400.000000\n",
       "Name: price, dtype: float64"
      ]
     },
     "execution_count": 39,
     "metadata": {},
     "output_type": "execute_result"
    }
   ],
   "source": [
    "car_data['price'].describe()"
   ]
  },
  {
   "cell_type": "code",
   "execution_count": 40,
   "id": "b70c4ccd",
   "metadata": {},
   "outputs": [
    {
     "data": {
      "text/plain": [
       "car_company\n",
       "chevrolet       6007.000000\n",
       "dodge           7875.444444\n",
       "plymouth        7963.428571\n",
       "honda           8184.692308\n",
       "subaru          8541.250000\n",
       "isuzu           8916.500000\n",
       "mitsubishi      9239.769231\n",
       "renault         9595.000000\n",
       "toyota          9885.812500\n",
       "volkswagen     10077.500000\n",
       "Nissan         10415.666667\n",
       "mazda          10652.882353\n",
       "saab           15223.333333\n",
       "peugeot        15489.090909\n",
       "alfa-romero    15498.333333\n",
       "mercury        16503.000000\n",
       "audi           17859.166714\n",
       "volvo          18063.181818\n",
       "bmw            26118.750000\n",
       "porsche        31400.500000\n",
       "buick          33647.000000\n",
       "jaguar         34600.000000\n",
       "Name: price, dtype: float64"
      ]
     },
     "execution_count": 40,
     "metadata": {},
     "output_type": "execute_result"
    }
   ],
   "source": [
    "car_data.groupby(['car_company'])['price'].mean().sort_values()"
   ]
  },
  {
   "cell_type": "code",
   "execution_count": 41,
   "id": "4539bb76",
   "metadata": {},
   "outputs": [],
   "source": [
    "car_data['price'] = car_data['price'].astype('int')\n",
    "df_auto_temp = car_data.copy()\n",
    "t = df_auto_temp.groupby(['car_company'])['price'].mean()\n",
    "df_auto_temp = df_auto_temp.merge(t.reset_index(), how='left',on='car_company')\n",
    "bins = [0,10000,20000,40000]\n",
    "label =['Low Priced Car','Average Priced Car','High Priced Cars']\n",
    "car_data['car_price_range'] = pd.cut(df_auto_temp['price_y'],bins,right=False,labels=label)"
   ]
  },
  {
   "cell_type": "code",
   "execution_count": 42,
   "id": "c3b32aba",
   "metadata": {},
   "outputs": [
    {
     "data": {
      "text/plain": [
       "car_company\n",
       "Nissan         Average Priced Car\n",
       "alfa-romero    Average Priced Car\n",
       "audi           Average Priced Car\n",
       "bmw              High Priced Cars\n",
       "buick            High Priced Cars\n",
       "chevrolet          Low Priced Car\n",
       "dodge              Low Priced Car\n",
       "honda              Low Priced Car\n",
       "isuzu              Low Priced Car\n",
       "jaguar           High Priced Cars\n",
       "mazda          Average Priced Car\n",
       "mercury        Average Priced Car\n",
       "mitsubishi         Low Priced Car\n",
       "peugeot        Average Priced Car\n",
       "plymouth           Low Priced Car\n",
       "porsche          High Priced Cars\n",
       "renault            Low Priced Car\n",
       "saab           Average Priced Car\n",
       "subaru             Low Priced Car\n",
       "toyota             Low Priced Car\n",
       "volkswagen     Average Priced Car\n",
       "volvo          Average Priced Car\n",
       "Name: car_price_range, dtype: category\n",
       "Categories (3, object): ['Low Priced Car' < 'Average Priced Car' < 'High Priced Cars']"
      ]
     },
     "execution_count": 42,
     "metadata": {},
     "output_type": "execute_result"
    }
   ],
   "source": [
    "car_data.groupby(['car_company'])['car_price_range'].min()"
   ]
  },
  {
   "cell_type": "code",
   "execution_count": 48,
   "id": "c03e102c",
   "metadata": {},
   "outputs": [],
   "source": [
    "categorical_features = ['car_price_range','fueltype','aspiration','doornumber','drivewheel','enginelocation',\n",
    "                        'fuelsystem','enginetype','cylindernumber','carbody']\n",
    "\n",
    "car_data[categorical_features].nunique()\n",
    "dummies = pd.get_dummies(car_data[categorical_features])"
   ]
  },
  {
   "cell_type": "code",
   "execution_count": 49,
   "id": "3ff9a1f8",
   "metadata": {},
   "outputs": [
    {
     "data": {
      "text/html": [
       "<div>\n",
       "<style scoped>\n",
       "    .dataframe tbody tr th:only-of-type {\n",
       "        vertical-align: middle;\n",
       "    }\n",
       "\n",
       "    .dataframe tbody tr th {\n",
       "        vertical-align: top;\n",
       "    }\n",
       "\n",
       "    .dataframe thead th {\n",
       "        text-align: right;\n",
       "    }\n",
       "</style>\n",
       "<table border=\"1\" class=\"dataframe\">\n",
       "  <thead>\n",
       "    <tr style=\"text-align: right;\">\n",
       "      <th></th>\n",
       "      <th>wheelbase</th>\n",
       "      <th>carlength</th>\n",
       "      <th>carwidth</th>\n",
       "      <th>carheight</th>\n",
       "      <th>curbweight</th>\n",
       "      <th>enginesize</th>\n",
       "      <th>boreratio</th>\n",
       "      <th>stroke</th>\n",
       "      <th>compressionratio</th>\n",
       "      <th>horsepower</th>\n",
       "      <th>peakrpm</th>\n",
       "      <th>citympg</th>\n",
       "      <th>highwaympg</th>\n",
       "    </tr>\n",
       "  </thead>\n",
       "  <tbody>\n",
       "    <tr>\n",
       "      <th>count</th>\n",
       "      <td>205.000000</td>\n",
       "      <td>205.000000</td>\n",
       "      <td>205.000000</td>\n",
       "      <td>205.000000</td>\n",
       "      <td>205.000000</td>\n",
       "      <td>205.000000</td>\n",
       "      <td>205.000000</td>\n",
       "      <td>205.000000</td>\n",
       "      <td>205.000000</td>\n",
       "      <td>205.000000</td>\n",
       "      <td>205.000000</td>\n",
       "      <td>205.000000</td>\n",
       "      <td>205.000000</td>\n",
       "    </tr>\n",
       "    <tr>\n",
       "      <th>mean</th>\n",
       "      <td>98.756585</td>\n",
       "      <td>174.049268</td>\n",
       "      <td>65.907805</td>\n",
       "      <td>53.724878</td>\n",
       "      <td>2555.565854</td>\n",
       "      <td>126.907317</td>\n",
       "      <td>3.329756</td>\n",
       "      <td>3.255415</td>\n",
       "      <td>10.142537</td>\n",
       "      <td>104.117073</td>\n",
       "      <td>5125.121951</td>\n",
       "      <td>25.219512</td>\n",
       "      <td>30.751220</td>\n",
       "    </tr>\n",
       "    <tr>\n",
       "      <th>std</th>\n",
       "      <td>6.021776</td>\n",
       "      <td>12.337289</td>\n",
       "      <td>2.145204</td>\n",
       "      <td>2.443522</td>\n",
       "      <td>520.680204</td>\n",
       "      <td>41.642693</td>\n",
       "      <td>0.270844</td>\n",
       "      <td>0.313597</td>\n",
       "      <td>3.972040</td>\n",
       "      <td>39.544167</td>\n",
       "      <td>476.985643</td>\n",
       "      <td>6.542142</td>\n",
       "      <td>6.886443</td>\n",
       "    </tr>\n",
       "    <tr>\n",
       "      <th>min</th>\n",
       "      <td>86.600000</td>\n",
       "      <td>141.100000</td>\n",
       "      <td>60.300000</td>\n",
       "      <td>47.800000</td>\n",
       "      <td>1488.000000</td>\n",
       "      <td>61.000000</td>\n",
       "      <td>2.540000</td>\n",
       "      <td>2.070000</td>\n",
       "      <td>7.000000</td>\n",
       "      <td>48.000000</td>\n",
       "      <td>4150.000000</td>\n",
       "      <td>13.000000</td>\n",
       "      <td>16.000000</td>\n",
       "    </tr>\n",
       "    <tr>\n",
       "      <th>25%</th>\n",
       "      <td>94.500000</td>\n",
       "      <td>166.300000</td>\n",
       "      <td>64.100000</td>\n",
       "      <td>52.000000</td>\n",
       "      <td>2145.000000</td>\n",
       "      <td>97.000000</td>\n",
       "      <td>3.150000</td>\n",
       "      <td>3.110000</td>\n",
       "      <td>8.600000</td>\n",
       "      <td>70.000000</td>\n",
       "      <td>4800.000000</td>\n",
       "      <td>19.000000</td>\n",
       "      <td>25.000000</td>\n",
       "    </tr>\n",
       "    <tr>\n",
       "      <th>50%</th>\n",
       "      <td>97.000000</td>\n",
       "      <td>173.200000</td>\n",
       "      <td>65.500000</td>\n",
       "      <td>54.100000</td>\n",
       "      <td>2414.000000</td>\n",
       "      <td>120.000000</td>\n",
       "      <td>3.310000</td>\n",
       "      <td>3.290000</td>\n",
       "      <td>9.000000</td>\n",
       "      <td>95.000000</td>\n",
       "      <td>5200.000000</td>\n",
       "      <td>24.000000</td>\n",
       "      <td>30.000000</td>\n",
       "    </tr>\n",
       "    <tr>\n",
       "      <th>75%</th>\n",
       "      <td>102.400000</td>\n",
       "      <td>183.100000</td>\n",
       "      <td>66.900000</td>\n",
       "      <td>55.500000</td>\n",
       "      <td>2935.000000</td>\n",
       "      <td>141.000000</td>\n",
       "      <td>3.580000</td>\n",
       "      <td>3.410000</td>\n",
       "      <td>9.400000</td>\n",
       "      <td>116.000000</td>\n",
       "      <td>5500.000000</td>\n",
       "      <td>30.000000</td>\n",
       "      <td>34.000000</td>\n",
       "    </tr>\n",
       "    <tr>\n",
       "      <th>max</th>\n",
       "      <td>120.900000</td>\n",
       "      <td>208.100000</td>\n",
       "      <td>72.300000</td>\n",
       "      <td>59.800000</td>\n",
       "      <td>4066.000000</td>\n",
       "      <td>326.000000</td>\n",
       "      <td>3.940000</td>\n",
       "      <td>4.170000</td>\n",
       "      <td>23.000000</td>\n",
       "      <td>288.000000</td>\n",
       "      <td>6600.000000</td>\n",
       "      <td>49.000000</td>\n",
       "      <td>54.000000</td>\n",
       "    </tr>\n",
       "  </tbody>\n",
       "</table>\n",
       "</div>"
      ],
      "text/plain": [
       "        wheelbase   carlength    carwidth   carheight   curbweight  \\\n",
       "count  205.000000  205.000000  205.000000  205.000000   205.000000   \n",
       "mean    98.756585  174.049268   65.907805   53.724878  2555.565854   \n",
       "std      6.021776   12.337289    2.145204    2.443522   520.680204   \n",
       "min     86.600000  141.100000   60.300000   47.800000  1488.000000   \n",
       "25%     94.500000  166.300000   64.100000   52.000000  2145.000000   \n",
       "50%     97.000000  173.200000   65.500000   54.100000  2414.000000   \n",
       "75%    102.400000  183.100000   66.900000   55.500000  2935.000000   \n",
       "max    120.900000  208.100000   72.300000   59.800000  4066.000000   \n",
       "\n",
       "       enginesize   boreratio      stroke  compressionratio  horsepower  \\\n",
       "count  205.000000  205.000000  205.000000        205.000000  205.000000   \n",
       "mean   126.907317    3.329756    3.255415         10.142537  104.117073   \n",
       "std     41.642693    0.270844    0.313597          3.972040   39.544167   \n",
       "min     61.000000    2.540000    2.070000          7.000000   48.000000   \n",
       "25%     97.000000    3.150000    3.110000          8.600000   70.000000   \n",
       "50%    120.000000    3.310000    3.290000          9.000000   95.000000   \n",
       "75%    141.000000    3.580000    3.410000          9.400000  116.000000   \n",
       "max    326.000000    3.940000    4.170000         23.000000  288.000000   \n",
       "\n",
       "           peakrpm     citympg  highwaympg  \n",
       "count   205.000000  205.000000  205.000000  \n",
       "mean   5125.121951   25.219512   30.751220  \n",
       "std     476.985643    6.542142    6.886443  \n",
       "min    4150.000000   13.000000   16.000000  \n",
       "25%    4800.000000   19.000000   25.000000  \n",
       "50%    5200.000000   24.000000   30.000000  \n",
       "75%    5500.000000   30.000000   34.000000  \n",
       "max    6600.000000   49.000000   54.000000  "
      ]
     },
     "execution_count": 49,
     "metadata": {},
     "output_type": "execute_result"
    }
   ],
   "source": [
    "numeric_cols = [\"wheelbase\",\"carlength\",\"carwidth\",\"carheight\",\"curbweight\",\"enginesize\",\"boreratio\",\"stroke\",\"compressionratio\",\"horsepower\",\"peakrpm\",\"citympg\",\"highwaympg\"]\n",
    "car_data[numeric_cols].describe()"
   ]
  },
  {
   "cell_type": "code",
   "execution_count": 50,
   "id": "8cb8fb49",
   "metadata": {},
   "outputs": [
    {
     "data": {
      "image/png": "[encoded data removed]",
      "text/plain": [
       "<Figure size 1008x504 with 2 Axes>"
      ]
     },
     "metadata": {
      "needs_background": "light"
     },
     "output_type": "display_data"
    }
   ],
   "source": [
    "cor = car_data[numeric_cols].corr()\n",
    "plt.figure(figsize=(14,7))\n",
    "sns.heatmap(cor, annot=True);\n",
    "plt.title('Кореляція');"
   ]
  },
  {
   "cell_type": "markdown",
   "id": "bf65808d",
   "metadata": {},
   "source": [
    "Сітка кореляції дуже зручна для вибору параметрів, оскільки, якщо два параметри корелюють між собою - достатньо включити лише один з них. Видно, що citympg корелює з highwaympg, для прикладу лишимо citympg."
   ]
  },
  {
   "cell_type": "code",
   "execution_count": 51,
   "id": "4c30a7c8",
   "metadata": {},
   "outputs": [],
   "source": [
    "from sklearn.preprocessing import StandardScaler\n",
    "\n",
    "scaler = StandardScaler()\n",
    "scaler.fit(car_data[numeric_cols])\n",
    "car_data[numeric_cols] = scaler.transform(car_data[numeric_cols])    "
   ]
  },
  {
   "cell_type": "raw",
   "id": "6d5ff6fd",
   "metadata": {},
   "source": [
    "Фінальний датасет:\n",
    "1) Видалимо car_ID;\n",
    "2) З highwaympg і citympg лишимо останній;\n",
    "3) Замінимо первинну ціна на нормалізовану;\n",
    "4) Видалимо компанію виробник, те саме що і назва авто."
   ]
  },
  {
   "cell_type": "code",
   "execution_count": 53,
   "id": "6899d4a6",
   "metadata": {},
   "outputs": [],
   "source": [
    "data_ohc = pd.concat([dummies,car_data[numeric_cols]],axis = 1)"
   ]
  },
  {
   "cell_type": "code",
   "execution_count": 54,
   "id": "093b8d61",
   "metadata": {},
   "outputs": [],
   "source": [
    "data_ohc[\"target\"] = boxcox_target"
   ]
  },
  {
   "cell_type": "code",
   "execution_count": 55,
   "id": "6b0a6240",
   "metadata": {},
   "outputs": [],
   "source": [
    "data_ohc = data_ohc.drop(columns = [\"highwaympg\"])"
   ]
  },
  {
   "cell_type": "markdown",
   "id": "44ae5fee",
   "metadata": {},
   "source": [
    "# Передбачення ціни"
   ]
  },
  {
   "cell_type": "markdown",
   "id": "b7d9f352",
   "metadata": {},
   "source": [
    "Тренуємо тестовий датасет:"
   ]
  },
  {
   "cell_type": "code",
   "execution_count": 56,
   "id": "4fa1923d",
   "metadata": {},
   "outputs": [],
   "source": [
    "from sklearn.model_selection import train_test_split\n",
    "\n",
    "y_col = 'target'\n",
    "\n",
    "feature_cols = [x for x in data_ohc.columns if x != y_col]\n",
    "X_data_ohc = data_ohc[feature_cols]\n",
    "y_data_ohc = data_ohc[y_col]\n",
    "\n",
    "X_train_ohc, X_test_ohc, y_train_ohc, y_test_ohc = train_test_split(X_data_ohc, y_data_ohc, \n",
    "                                                    test_size=0.3, random_state=42)"
   ]
  },
  {
   "cell_type": "code",
   "execution_count": 57,
   "id": "34915ed8",
   "metadata": {},
   "outputs": [
    {
     "data": {
      "text/plain": [
       "['car_price_range_Low Priced Car',\n",
       " 'car_price_range_Average Priced Car',\n",
       " 'car_price_range_High Priced Cars',\n",
       " 'fueltype_diesel',\n",
       " 'fueltype_gas',\n",
       " 'aspiration_std',\n",
       " 'aspiration_turbo',\n",
       " 'doornumber_four',\n",
       " 'doornumber_two',\n",
       " 'drivewheel_4wd',\n",
       " 'drivewheel_fwd',\n",
       " 'drivewheel_rwd',\n",
       " 'enginelocation_front',\n",
       " 'enginelocation_rear',\n",
       " 'fuelsystem_1bbl',\n",
       " 'fuelsystem_2bbl',\n",
       " 'fuelsystem_4bbl',\n",
       " 'fuelsystem_idi',\n",
       " 'fuelsystem_mfi',\n",
       " 'fuelsystem_mpfi',\n",
       " 'fuelsystem_spdi',\n",
       " 'fuelsystem_spfi',\n",
       " 'enginetype_dohc',\n",
       " 'enginetype_dohcv',\n",
       " 'enginetype_l',\n",
       " 'enginetype_ohc',\n",
       " 'enginetype_ohcf',\n",
       " 'enginetype_ohcv',\n",
       " 'enginetype_rotor',\n",
       " 'cylindernumber_eight',\n",
       " 'cylindernumber_five',\n",
       " 'cylindernumber_four',\n",
       " 'cylindernumber_six',\n",
       " 'cylindernumber_three',\n",
       " 'cylindernumber_twelve',\n",
       " 'cylindernumber_two',\n",
       " 'carbody_convertible',\n",
       " 'carbody_hardtop',\n",
       " 'carbody_hatchback',\n",
       " 'carbody_sedan',\n",
       " 'carbody_wagon',\n",
       " 'wheelbase',\n",
       " 'carlength',\n",
       " 'carwidth',\n",
       " 'carheight',\n",
       " 'curbweight',\n",
       " 'enginesize',\n",
       " 'boreratio',\n",
       " 'stroke',\n",
       " 'compressionratio',\n",
       " 'horsepower',\n",
       " 'peakrpm',\n",
       " 'citympg']"
      ]
     },
     "execution_count": 57,
     "metadata": {},
     "output_type": "execute_result"
    }
   ],
   "source": [
    "feature_cols"
   ]
  },
  {
   "cell_type": "markdown",
   "id": "0a2caf60",
   "metadata": {},
   "source": [
    "Тренуємо регресійну модель:"
   ]
  },
  {
   "cell_type": "code",
   "execution_count": 58,
   "id": "ec36c8e5",
   "metadata": {},
   "outputs": [
    {
     "data": {
      "text/plain": [
       "[train    1.166103e-07\n",
       " test     2.498582e-07\n",
       " Name: one-hot enc, dtype: float64]"
      ]
     },
     "execution_count": 58,
     "metadata": {},
     "output_type": "execute_result"
    }
   ],
   "source": [
    "from sklearn.linear_model import LinearRegression\n",
    "from sklearn.metrics import mean_squared_error\n",
    "\n",
    "LR = LinearRegression()\n",
    "\n",
    "# Storage for error values\n",
    "error_df = list()\n",
    "\n",
    "LR = LR.fit(X_train_ohc, y_train_ohc)\n",
    "y_train_ohc_pred = LR.predict(X_train_ohc)\n",
    "y_test_ohc_pred = LR.predict(X_test_ohc)\n",
    "\n",
    "error_df.append(pd.Series({'train': mean_squared_error(y_train_ohc, y_train_ohc_pred),\n",
    "                           'test' : mean_squared_error(y_test_ohc,  y_test_ohc_pred)},\n",
    "                          name='one-hot enc'))\n",
    "\n",
    "error_df"
   ]
  },
  {
   "cell_type": "markdown",
   "id": "f6fb1cf0",
   "metadata": {},
   "source": [
    "Отримані похибки для тренувального та тестового датасету мають одинаковий порядок, отже параметри для тренування моделі підібрані грамотно!"
   ]
  },
  {
   "cell_type": "markdown",
   "id": "564545b7",
   "metadata": {},
   "source": [
    "# Висновок"
   ]
  },
  {
   "cell_type": "markdown",
   "id": "b868fd64",
   "metadata": {},
   "source": [
    "   Я навчився: перевіряти за допомогою утиліти normaltest з бібліотеки scipy.stats.mstats, чи потребує вибірка нормалізацію,\n",
    "визначати важливі для моделі параметри, 'на око', а потім корегувати їх за допомогою сітки кореляцій, і найголовніше - це тренувати модель лінійної регресії на базі бібліотеки sklearn."
   ]
  }
 ],
 "metadata": {
  "kernelspec": {
   "display_name": "Python 3 (ipykernel)",
   "language": "python",
   "name": "python3"
  },
  "language_info": {
   "codemirror_mode": {
    "name": "ipython",
    "version": 3
   },
   "file_extension": ".py",
   "mimetype": "text/x-python",
   "name": "python",
   "nbconvert_exporter": "python",
   "pygments_lexer": "ipython3",
   "version": "3.9.12"
  }
 },
 "nbformat": 4,
 "nbformat_minor": 5
}
