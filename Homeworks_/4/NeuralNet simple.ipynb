{
 "cells": [
  {
   "cell_type": "markdown",
   "metadata": {},
   "source": [
    "В цій практичній роботі ми спробуємо реалізувати нейронну мережу з двох шарів (прихований і вихідний). Запропонований підхід стане заготовкою для реалізації наступних оптимізацій: MBGD, ADAM та регуляризації. \n",
    "\n",
    "Сьогодні ж вам пропонується додати до цього класу підтримку довільної кількості шарів та нейронів в них (наприклад, передавати їх параметром в конструктор, як це робиться в MLPClassifier за допомогою hidden_layer_sizes). Також потрібно передбачити можливість ранньої зупинки ітераційного процесу, якщо значення штрафної функції не покращуватиметься протягом певної кількості ітерацій. Наприклад, якщо протягом $k$ ітерацій штрафна функція за модулем не стане меншою, ніж на поточному кроці."
   ]
  },
  {
   "cell_type": "code",
   "execution_count": 59,
   "metadata": {},
   "outputs": [],
   "source": [
    "import numpy as np\n",
    "import pandas as pd\n",
    "from sklearn.model_selection import train_test_split\n",
    "from mpl_toolkits.mplot3d import Axes3D\n",
    "import matplotlib.pyplot as plt\n",
    "\n",
    "from matplotlib.colors import ListedColormap\n",
    "cm_bright = ListedColormap(['#FF0000', '#0000FF'])\n",
    "%matplotlib inline\n",
    "from sklearn.metrics import accuracy_score\n",
    "\n",
    "import sklearn.linear_model"
   ]
  },
  {
   "cell_type": "code",
   "execution_count": 60,
   "metadata": {},
   "outputs": [],
   "source": [
    "def plot_surface(cls, x_1, x_2, ax=None, threshold=0.5, contourf=False):\n",
    "    xx1, xx2 = np.meshgrid(np.linspace(x_1.min(), x_1.max(), 100), \n",
    "                           np.linspace(x_2.min(), x_2.max(), 100))\n",
    "\n",
    "    X_pred = np.c_[xx1.ravel(), xx2.ravel()]\n",
    "    pred = cls.predict_proba(X_pred)[:, 0]\n",
    "    Z = pred.reshape((100, 100))\n",
    "    if ax is None:\n",
    "        ax = plt.gca()\n",
    "    ax.contour(xx1, xx2, Z, levels=[threshold], colors='black')\n",
    "    ax.set_xlim((x_1.min(), x_1.max()))\n",
    "    ax.set_ylim((x_2.min(), x_2.max()))"
   ]
  },
  {
   "cell_type": "code",
   "execution_count": 61,
   "metadata": {},
   "outputs": [],
   "source": [
    "def plot_data(X, y):\n",
    "    ax = plt.gca()\n",
    "    ax.scatter(X[:,0], X[:,1], c=(y == 1), cmap=cm_bright)"
   ]
  },
  {
   "cell_type": "code",
   "execution_count": 62,
   "metadata": {},
   "outputs": [],
   "source": [
    "class NeuralNet:\n",
    "    \n",
    "    def __init__(self, layers_sizes, normalize = True, learning_rate = 0.01, num_iter = 15000, costs_iters=300, tol=1e-7):\n",
    "        self.learning_rate = learning_rate\n",
    "        self.num_iter = num_iter\n",
    "        self.normalize = normalize\n",
    "        self.layers_sizes = layers_sizes\n",
    "        self.tol = tol\n",
    "        self.layers = len(layers_sizes) + 1\n",
    "        self.costs_iters = costs_iters\n",
    "    \n",
    "    def __normalize(self, X, mean = None, std = None):\n",
    "        n = X.shape[0]\n",
    "        m = mean\n",
    "        if m is None:\n",
    "            m = np.mean(X, axis=1).reshape((n, 1))\n",
    "        s = std\n",
    "        if s is None:\n",
    "            s = np.std(X, axis=1).reshape((n, 1))\n",
    "        X_new = (X - m) / s\n",
    "        return X_new, m, s\n",
    "\n",
    "    def __sigmoid(self, Z):\n",
    "        return 1 / (1 + np.exp(-Z))\n",
    "    \n",
    "    def __sigmoid_derivative(self, A):\n",
    "        return np.multiply(A, 1 - A)\n",
    "    \n",
    "    def __initialize_parameters(self):\n",
    "        W, b = [], []\n",
    "        \n",
    "        for l in range(1,self.layers+1):\n",
    "            W_l = np.random.randn(self.layers_sizes[l], self.layers_sizes[l-1]) * 0.01\n",
    "            b_l = np.zeros((self.layers_sizes[l], 1))\n",
    "            W.append(W_l)\n",
    "            b.append(b_l)\n",
    "        \n",
    "        self.parameters = {\"W\" : W, \"b\" : b}\n",
    "        \n",
    "        for key in self.parameters:\n",
    "            for key_i,i in zip(self.parameters[key],range(len(self.parameters[key]))):\n",
    "                print(\"{}{}: {}\".format(key,i+1,key_i.shape))\n",
    "       \n",
    "    def __forward_propagation(self, X):            \n",
    "        W = self.parameters[\"W\"]\n",
    "        b = self.parameters[\"b\"]\n",
    "        Z, A = [], [] \n",
    "\n",
    "        A.append(X)\n",
    "        for l in range(0,self.layers):\n",
    "            Z_l = np.dot(W[l],A[l]) + b[l]\n",
    "            A_l = self.__sigmoid(Z_l)\n",
    "            Z.append(Z_l)\n",
    "            A.append(A_l)\n",
    "        \n",
    "        cache = (Z,A)\n",
    "        return A[-1], cache\n",
    "    \n",
    "    def compute_cost(self, A, Y):\n",
    "        m = Y.shape[1]\n",
    "        res = Y * np.log(A) + (1 - Y) * np.log(1 - A)\n",
    "        J = -(1 / m) * np.sum(res)\n",
    "        return J\n",
    "    \n",
    "    def __backward_propagation(self, X, Y, cache):\n",
    "        m = X.shape[1]\n",
    "        \n",
    "        W = self.parameters[\"W\"]\n",
    "        b = self.parameters[\"b\"]\n",
    "        (Z,A) = cache\n",
    "        \n",
    "        dZ, dW, db = [], [], []\n",
    "        \n",
    "        dZ_l = A[-1] - Y\n",
    "        dW_l = 1. / m * np.dot(dZ_l, A[-2].T)\n",
    "        db_l = 1. / m * np.sum(dZ_l, axis = 1, keepdims = True)\n",
    "        \n",
    "        dZ.insert(0,dZ_l)\n",
    "        dW.insert(0,dW_l)\n",
    "        db.insert(0,db_l)\n",
    "        \n",
    "        for l in range(self.layers-1,0,-1):\n",
    "            dA_l = np.dot(W[l].T,dZ_l)\n",
    "            dZ_l = np.multiply(dA_l, self.__sigmoid_derivative(A[l]))\n",
    "            dW_l = 1. / m * np.dot(dZ_l, A[l-1].T)\n",
    "            db_l = 1. / m * np.sum(dZ_l, axis = 1, keepdims = True)\n",
    "            dZ.insert(0,dZ_l)\n",
    "            dW.insert(0,dW_l)\n",
    "            db.insert(0,db_l)\n",
    "        \n",
    "        grads = {\"dZ\":dZ,\"dW\":dW,\"db\":db}\n",
    "        return grads\n",
    "  \n",
    "    \n",
    "    def __update_parameters(self, grads):        \n",
    "        W = self.parameters[\"W\"]\n",
    "        b = self.parameters[\"b\"]\n",
    "        dW = grads[\"dW\"]\n",
    "        db = grads[\"db\"]\n",
    "    \n",
    "        for l in range(0,len(W)):\n",
    "            W[l] = W[l] - self.learning_rate * dW[l]\n",
    "            b[l] = b[l] - self.learning_rate * db[l]\n",
    "            \n",
    "        self.parameters[\"W\"] = W\n",
    "        self.parameters[\"b\"] = b\n",
    "\n",
    "        \n",
    "    def fit(self, X_vert, Y_vert, print_cost = True):\n",
    "        \n",
    "        X, Y = X_vert.T, Y_vert.T\n",
    "        \n",
    "        if self.normalize:\n",
    "            X, self.__mean, self.__std = self.__normalize(X)\n",
    "        \n",
    "        costs = []\n",
    "        costs_imp = []\n",
    "        \n",
    "        m = X.shape[1]\n",
    "        n_x = X.shape[0]\n",
    "        \n",
    "        self.layers_sizes.insert(0,n_x)\n",
    "        self.layers_sizes.append(1);\n",
    "        \n",
    "        self.__initialize_parameters()\n",
    "\n",
    "        for i in range(self.num_iter):\n",
    "            A, cache = self.__forward_propagation(X)\n",
    "\n",
    "            cost = self.compute_cost(A, Y)\n",
    "            \n",
    "            grads = self.__backward_propagation(X, Y, cache)\n",
    "\n",
    "            self.__update_parameters(grads)\n",
    "\n",
    "            if print_cost and i % 1000 == 0:\n",
    "                print(\"{}-th iteration: {}\".format(i, cost))\n",
    "\n",
    "            if i % 1000 == 0:\n",
    "                costs.append(cost)\n",
    "            \n",
    "            costs_imp.append(cost)\n",
    "            if i > self.costs_iters:\n",
    "                len_imp = len(costs_imp)-1\n",
    "                if abs(costs_imp[len_imp] - costs_imp[len_imp-self.costs_iters]) < self.tol:\n",
    "                    print(\"Stop iteration: {}\".format(i))\n",
    "                    break;\n",
    "\n",
    "        if print_cost:\n",
    "            plt.plot(costs)\n",
    "            plt.ylabel(\"Cost\")\n",
    "            plt.xlabel(\"Iteration, *1000\")\n",
    "            plt.show()\n",
    "    \n",
    "    def predict_proba(self, X_vert):\n",
    "        X = X_vert.T\n",
    "        if self.normalize:\n",
    "            X, _, _ = self.__normalize(X, self.__mean, self.__std)\n",
    "        \n",
    "        probs = self.__forward_propagation(X)[0]\n",
    "        \n",
    "        return np.column_stack((probs.T, 1 - probs.T))\n",
    "    \n",
    "    def predict(self, X_vert):\n",
    "        positive_probs = self.predict_proba(X_vert)[:, 0]\n",
    "        return (positive_probs >= 0.5).astype(int)"
   ]
  },
  {
   "cell_type": "markdown",
   "metadata": {},
   "source": [
    "Спочатку спробуйте цей клас на одній задачі, а потім на іншій."
   ]
  },
  {
   "cell_type": "code",
   "execution_count": 82,
   "metadata": {},
   "outputs": [
    {
     "name": "stdout",
     "output_type": "stream",
     "text": [
      "Training set: X=(118, 2), y=(118,)\n"
     ]
    }
   ],
   "source": [
    "data_columns = [\"test1\", \"test2\"]\n",
    "target_column = \"passed\"\n",
    "df = pd.read_csv(\"tests.csv\")\n",
    "X1, Y1 = df[data_columns].values, df[target_column]\n",
    "print('Training set: X={}, y={}'.format(X.shape, Y.shape))"
   ]
  },
  {
   "cell_type": "code",
   "execution_count": 83,
   "metadata": {},
   "outputs": [
    {
     "data": {
      "image/png": "[encoded data removed]",
      "text/plain": [
       "<Figure size 432x288 with 1 Axes>"
      ]
     },
     "metadata": {
      "needs_background": "light"
     },
     "output_type": "display_data"
    }
   ],
   "source": [
    "plot_data(X1, Y1)"
   ]
  },
  {
   "cell_type": "code",
   "execution_count": 84,
   "metadata": {
    "scrolled": true
   },
   "outputs": [],
   "source": [
    "cls1 = NeuralNet(layers_sizes=[70,60], normalize = True, learning_rate = 0.5, num_iter = 15000, tol=1e-8, costs_iters=500)"
   ]
  },
  {
   "cell_type": "code",
   "execution_count": 85,
   "metadata": {},
   "outputs": [
    {
     "name": "stdout",
     "output_type": "stream",
     "text": [
      "W1: (70, 2)\n",
      "W2: (60, 70)\n",
      "W3: (1, 60)\n",
      "b1: (70, 1)\n",
      "b2: (60, 1)\n",
      "b3: (1, 1)\n",
      "0-th iteration: 0.6933760941552787\n",
      "1000-th iteration: 0.6930028118284993\n",
      "2000-th iteration: 0.6930022399758523\n",
      "3000-th iteration: 0.6930014233382816\n",
      "4000-th iteration: 0.693000142537433\n",
      "5000-th iteration: 0.6929979485275319\n",
      "6000-th iteration: 0.692993800388106\n",
      "7000-th iteration: 0.6929848896995696\n",
      "8000-th iteration: 0.692961878432557\n",
      "9000-th iteration: 0.6928822708018041\n",
      "10000-th iteration: 0.6924369735087\n",
      "11000-th iteration: 0.6904971119909098\n",
      "12000-th iteration: 0.6899561083356711\n",
      "13000-th iteration: 0.689078180323412\n",
      "14000-th iteration: 0.6703950136380457\n"
     ]
    },
    {
     "data": {
      "image/png": "[encoded data removed]",
      "text/plain": [
       "<Figure size 432x288 with 1 Axes>"
      ]
     },
     "metadata": {
      "needs_background": "light"
     },
     "output_type": "display_data"
    }
   ],
   "source": [
    "cls1.fit(X1, Y1.values.reshape((df.shape[0], 1)))"
   ]
  },
  {
   "cell_type": "code",
   "execution_count": 86,
   "metadata": {
    "scrolled": true
   },
   "outputs": [
    {
     "name": "stdout",
     "output_type": "stream",
     "text": [
      "{'W': [array([[-3.21510252e-01, -2.64316558e-01],\n",
      "       [-9.68591623e-01, -7.41825422e-01],\n",
      "       [-1.29441934e-01, -7.72544933e-02],\n",
      "       [ 2.44864782e-01,  2.30498519e-01],\n",
      "       [-4.88251268e-01, -3.99451247e-01],\n",
      "       [-3.02059214e-01, -2.38784579e-01],\n",
      "       [ 4.01046272e-01,  3.88939888e-01],\n",
      "       [-5.69577783e-02, -6.72085560e-05],\n",
      "       [-6.01721807e-04,  3.57922980e-02],\n",
      "       [ 2.75069563e-01,  2.77488984e-01],\n",
      "       [ 4.25742060e-01,  4.17458458e-01],\n",
      "       [-2.05670461e-01, -1.69508307e-01],\n",
      "       [-2.04817782e-01, -1.60197770e-01],\n",
      "       [ 6.28701331e-01,  5.76256624e-01],\n",
      "       [ 8.19256691e-02,  9.23199566e-02],\n",
      "       [ 1.47757110e-01,  1.59672723e-01],\n",
      "       [-5.35295558e-01, -4.53258721e-01],\n",
      "       [-2.32897892e-01, -1.94352062e-01],\n",
      "       [-2.92375593e-01, -2.32767535e-01],\n",
      "       [-9.48741232e-01, -7.32551886e-01],\n",
      "       [-1.18317566e-01, -7.01045045e-02],\n",
      "       [-4.29572412e-01, -3.59638648e-01],\n",
      "       [-1.11252577e-01, -1.08502485e-01],\n",
      "       [-3.75009969e-01, -3.18738208e-01],\n",
      "       [-6.66480051e-03,  6.89875810e-04],\n",
      "       [ 3.16125308e-01,  3.14919558e-01],\n",
      "       [ 3.48575014e-01,  3.44155955e-01],\n",
      "       [-4.53362321e-01, -3.56587969e-01],\n",
      "       [-4.50702547e-01, -3.72327407e-01],\n",
      "       [ 3.25621479e-01,  3.05112213e-01],\n",
      "       [-6.85628501e-01, -5.60566832e-01],\n",
      "       [ 2.84530307e-01,  2.85034537e-01],\n",
      "       [-3.46087448e-01, -2.87542746e-01],\n",
      "       [-5.77236623e-01, -4.73432487e-01],\n",
      "       [ 5.29901412e-01,  4.92140233e-01],\n",
      "       [-4.03735232e-01, -3.28487886e-01],\n",
      "       [ 3.17452323e-01,  3.04473056e-01],\n",
      "       [-5.78318442e-01, -4.87604459e-01],\n",
      "       [-1.44451066e-02,  2.37792445e-02],\n",
      "       [-4.15107181e-01, -3.42400686e-01],\n",
      "       [-6.39653887e-01, -5.31507968e-01],\n",
      "       [ 2.63276776e-01,  2.75006791e-01],\n",
      "       [-4.00606704e-01, -3.22630092e-01],\n",
      "       [-4.75795552e-01, -4.06190832e-01],\n",
      "       [-7.88590136e-02, -1.40357539e-02],\n",
      "       [-6.93844470e-01, -5.65922797e-01],\n",
      "       [ 1.38418375e-01,  1.46569108e-01],\n",
      "       [ 2.16048864e-01,  2.00994184e-01],\n",
      "       [ 6.47770333e-01,  5.92623915e-01],\n",
      "       [ 8.55733205e-02,  1.24463169e-01],\n",
      "       [-6.33597053e-01, -5.23836740e-01],\n",
      "       [ 4.89242673e-01,  4.66504781e-01],\n",
      "       [ 6.02793068e-01,  5.61056306e-01],\n",
      "       [ 6.09184616e-01,  5.55781356e-01],\n",
      "       [ 6.96609191e-02,  7.95284930e-02],\n",
      "       [-6.13863868e-02, -2.69865798e-02],\n",
      "       [ 4.40732604e-01,  4.20099207e-01],\n",
      "       [-2.80436443e-01, -2.27205853e-01],\n",
      "       [ 1.99620079e-01,  2.24957423e-01],\n",
      "       [-1.89564593e-01, -1.26705321e-01],\n",
      "       [ 1.04978957e-01,  1.16231052e-01],\n",
      "       [ 2.73191190e-01,  2.92819392e-01],\n",
      "       [-3.35845220e-01, -2.57005475e-01],\n",
      "       [-7.59559577e-01, -6.07606458e-01],\n",
      "       [ 5.75847730e-01,  5.28432287e-01],\n",
      "       [ 1.10695310e+00,  8.76671066e-01],\n",
      "       [ 8.32275383e-02,  1.10125752e-01],\n",
      "       [-1.72564508e-01, -1.38239142e-01],\n",
      "       [-3.88960583e-01, -3.25679416e-01],\n",
      "       [ 4.25645847e-01,  4.14993345e-01]]), array([[ 0.00703471,  0.04016019,  0.00100393, ..., -0.00773539,\n",
      "         0.00409922, -0.05546128],\n",
      "       [-0.13040181, -0.4075789 , -0.06771985, ..., -0.07846663,\n",
      "        -0.1524771 ,  0.12007486],\n",
      "       [ 0.02539527,  0.02363389, -0.0076846 , ...,  0.0222544 ,\n",
      "         0.03502867, -0.05818267],\n",
      "       ...,\n",
      "       [ 0.04012016,  0.02344328, -0.00724391, ...,  0.0060297 ,\n",
      "         0.02112007, -0.07358503],\n",
      "       [ 0.02266501,  0.05003771, -0.03512584, ...,  0.00069151,\n",
      "         0.02567195, -0.06570509],\n",
      "       [ 0.00547362,  0.03294206, -0.00589523, ...,  0.00391821,\n",
      "         0.03926669, -0.06156894]]), array([[-0.23446439, -0.83007484, -0.31607711,  0.29462961, -0.49834487,\n",
      "        -0.3475131 ,  0.22163238, -0.41143834,  0.87728486, -0.24167937,\n",
      "        -0.32274805,  0.27897548, -0.1412768 , -0.2374076 , -0.30507304,\n",
      "        -0.36236051, -0.31876368, -0.24949309,  0.2870927 ,  0.15448273,\n",
      "        -0.34322011, -0.23375272, -0.25884909,  0.26427387, -0.29917739,\n",
      "         0.19433917, -0.25518447, -0.27246162,  0.2846913 , -0.24293094,\n",
      "        -0.26601589, -0.3386173 , -0.28363433, -0.32771691, -0.31639305,\n",
      "        -0.3514646 , -0.33934332,  4.73012552, -0.20658081, -0.25746562,\n",
      "        -0.43037364,  0.29126735, -0.25539603, -0.34251318, -0.40637029,\n",
      "        -0.55265029, -0.3294454 , -0.6675587 , -0.23933656,  0.11255181,\n",
      "        -0.3261474 , -0.32831122, -0.1282733 , -0.33445636, -0.27056975,\n",
      "        -0.54804175, -0.25022812, -0.3038944 , -0.33438055, -0.3042894 ]])], 'b': [array([[ 0.00513723],\n",
      "       [ 0.38732654],\n",
      "       [ 0.00453037],\n",
      "       [ 0.01507851],\n",
      "       [ 0.01298943],\n",
      "       [ 0.00452671],\n",
      "       [ 0.02543687],\n",
      "       [ 0.00786232],\n",
      "       [ 0.00652824],\n",
      "       [ 0.02041756],\n",
      "       [ 0.02594242],\n",
      "       [ 0.00207678],\n",
      "       [ 0.00413217],\n",
      "       [ 0.00124462],\n",
      "       [ 0.0079239 ],\n",
      "       [ 0.01082806],\n",
      "       [ 0.02034425],\n",
      "       [ 0.00454987],\n",
      "       [ 0.00288351],\n",
      "       [ 0.36830016],\n",
      "       [ 0.00435954],\n",
      "       [ 0.01038914],\n",
      "       [ 0.00401086],\n",
      "       [ 0.00779581],\n",
      "       [ 0.00342354],\n",
      "       [ 0.02082318],\n",
      "       [ 0.0213075 ],\n",
      "       [ 0.01105051],\n",
      "       [ 0.00591942],\n",
      "       [ 0.01872392],\n",
      "       [ 0.10073153],\n",
      "       [ 0.01766597],\n",
      "       [ 0.01183209],\n",
      "       [ 0.03643825],\n",
      "       [ 0.00867012],\n",
      "       [ 0.01238128],\n",
      "       [ 0.02136279],\n",
      "       [ 0.03868901],\n",
      "       [ 0.006306  ],\n",
      "       [ 0.00809637],\n",
      "       [ 0.05473684],\n",
      "       [ 0.0195385 ],\n",
      "       [ 0.00684162],\n",
      "       [ 0.0099059 ],\n",
      "       [ 0.00745737],\n",
      "       [ 0.0852027 ],\n",
      "       [ 0.00956987],\n",
      "       [ 0.01264282],\n",
      "       [-0.01587002],\n",
      "       [ 0.00830159],\n",
      "       [ 0.06442399],\n",
      "       [ 0.0298778 ],\n",
      "       [-0.00104099],\n",
      "       [-0.01047375],\n",
      "       [ 0.00856298],\n",
      "       [ 0.00471093],\n",
      "       [ 0.02121401],\n",
      "       [ 0.00357717],\n",
      "       [ 0.01722036],\n",
      "       [ 0.00590499],\n",
      "       [ 0.01031119],\n",
      "       [ 0.02342403],\n",
      "       [ 0.00719049],\n",
      "       [ 0.15380167],\n",
      "       [ 0.0033833 ],\n",
      "       [-0.5896221 ],\n",
      "       [ 0.00882549],\n",
      "       [ 0.00498903],\n",
      "       [ 0.00125565],\n",
      "       [ 0.02508544]]), array([[-0.02074895],\n",
      "       [-0.07159646],\n",
      "       [-0.03632668],\n",
      "       [-0.01987391],\n",
      "       [-0.07090274],\n",
      "       [-0.04497478],\n",
      "       [-0.04919868],\n",
      "       [-0.05151111],\n",
      "       [ 0.07507751],\n",
      "       [-0.0279494 ],\n",
      "       [-0.0386858 ],\n",
      "       [-0.02025932],\n",
      "       [-0.01645713],\n",
      "       [-0.02900741],\n",
      "       [-0.03469516],\n",
      "       [-0.04755472],\n",
      "       [-0.03877799],\n",
      "       [-0.02975187],\n",
      "       [-0.02110737],\n",
      "       [-0.02286458],\n",
      "       [-0.0429984 ],\n",
      "       [-0.02986659],\n",
      "       [-0.02310546],\n",
      "       [-0.02106211],\n",
      "       [-0.03911286],\n",
      "       [-0.05932061],\n",
      "       [-0.02758042],\n",
      "       [-0.03124901],\n",
      "       [-0.02661761],\n",
      "       [-0.02844992],\n",
      "       [-0.02569789],\n",
      "       [-0.04009907],\n",
      "       [-0.03336568],\n",
      "       [-0.03806233],\n",
      "       [-0.03534289],\n",
      "       [-0.04591063],\n",
      "       [-0.04252564],\n",
      "       [ 0.12038846],\n",
      "       [-0.13101813],\n",
      "       [-0.03010311],\n",
      "       [-0.06197612],\n",
      "       [-0.01745544],\n",
      "       [-0.03000694],\n",
      "       [-0.03691142],\n",
      "       [-0.05480395],\n",
      "       [-0.07061089],\n",
      "       [-0.04101381],\n",
      "       [-0.08492166],\n",
      "       [-0.02680366],\n",
      "       [-0.02739682],\n",
      "       [-0.0356643 ],\n",
      "       [-0.03937867],\n",
      "       [-0.01794804],\n",
      "       [-0.03849938],\n",
      "       [-0.03094746],\n",
      "       [-0.07309942],\n",
      "       [-0.02807269],\n",
      "       [-0.03480349],\n",
      "       [-0.03678334],\n",
      "       [-0.03924385]]), array([[0.19693254]])]}\n"
     ]
    }
   ],
   "source": [
    "print(cls1.parameters)"
   ]
  },
  {
   "cell_type": "code",
   "execution_count": 87,
   "metadata": {
    "scrolled": true
   },
   "outputs": [
    {
     "data": {
      "text/plain": [
       "array([[0.66584346, 0.33415654],\n",
       "       [0.40050345, 0.59949655],\n",
       "       [0.3916345 , 0.6083655 ],\n",
       "       [0.57581886, 0.42418114],\n",
       "       [0.27290632, 0.72709368],\n",
       "       [0.48051129, 0.51948871],\n",
       "       [0.24266455, 0.75733545],\n",
       "       [0.75769136, 0.24230864],\n",
       "       [0.66594029, 0.33405971],\n",
       "       [0.51657567, 0.48342433],\n",
       "       [0.62578624, 0.37421376],\n",
       "       [0.33726225, 0.66273775],\n",
       "       [0.18797592, 0.81202408],\n",
       "       [0.39930089, 0.60069911],\n",
       "       [0.46221723, 0.53778277],\n",
       "       [0.64222118, 0.35777882],\n",
       "       [0.48054845, 0.51945155],\n",
       "       [0.75859816, 0.24140184],\n",
       "       [0.48596408, 0.51403592],\n",
       "       [0.46149241, 0.53850759],\n",
       "       [0.78042843, 0.21957157],\n",
       "       [0.46506056, 0.53493944],\n",
       "       [0.4786705 , 0.5213295 ],\n",
       "       [0.39904356, 0.60095644],\n",
       "       [0.61860283, 0.38139717],\n",
       "       [0.76862633, 0.23137367],\n",
       "       [0.31252669, 0.68747331],\n",
       "       [0.78755619, 0.21244381],\n",
       "       [0.47560715, 0.52439285],\n",
       "       [0.60127019, 0.39872981],\n",
       "       [0.68815926, 0.31184074],\n",
       "       [0.61367491, 0.38632509],\n",
       "       [0.34943199, 0.65056801],\n",
       "       [0.53085597, 0.46914403],\n",
       "       [0.1222438 , 0.8777562 ],\n",
       "       [0.74702527, 0.25297473],\n",
       "       [0.27652192, 0.72347808],\n",
       "       [0.4820627 , 0.5179373 ],\n",
       "       [0.77441309, 0.22558691],\n",
       "       [0.12739209, 0.87260791],\n",
       "       [0.22493741, 0.77506259],\n",
       "       [0.41122304, 0.58877696],\n",
       "       [0.26394572, 0.73605428],\n",
       "       [0.6923591 , 0.3076409 ],\n",
       "       [0.12917555, 0.87082445],\n",
       "       [0.69062826, 0.30937174],\n",
       "       [0.26082517, 0.73917483],\n",
       "       [0.12070426, 0.87929574],\n",
       "       [0.12800484, 0.87199516],\n",
       "       [0.36354529, 0.63645471],\n",
       "       [0.68375626, 0.31624374],\n",
       "       [0.70521499, 0.29478501],\n",
       "       [0.61677906, 0.38322094],\n",
       "       [0.13488756, 0.86511244],\n",
       "       [0.35267331, 0.64732669],\n",
       "       [0.76670706, 0.23329294],\n",
       "       [0.20642929, 0.79357071],\n",
       "       [0.21512068, 0.78487932],\n",
       "       [0.58858339, 0.41141661],\n",
       "       [0.70835582, 0.29164418],\n",
       "       [0.6984753 , 0.3015247 ],\n",
       "       [0.68791009, 0.31208991],\n",
       "       [0.37997461, 0.62002539],\n",
       "       [0.14506877, 0.85493123],\n",
       "       [0.54691329, 0.45308671],\n",
       "       [0.67683381, 0.32316619],\n",
       "       [0.20522424, 0.79477576],\n",
       "       [0.31625318, 0.68374682],\n",
       "       [0.66647012, 0.33352988],\n",
       "       [0.12322435, 0.87677565],\n",
       "       [0.78204364, 0.21795636],\n",
       "       [0.7616483 , 0.2383517 ],\n",
       "       [0.76458626, 0.23541374],\n",
       "       [0.72701218, 0.27298782],\n",
       "       [0.49778671, 0.50221329],\n",
       "       [0.70772696, 0.29227304],\n",
       "       [0.68257699, 0.31742301],\n",
       "       [0.78353746, 0.21646254],\n",
       "       [0.74134873, 0.25865127],\n",
       "       [0.43594835, 0.56405165],\n",
       "       [0.13993622, 0.86006378],\n",
       "       [0.77538453, 0.22461547],\n",
       "       [0.63534937, 0.36465063],\n",
       "       [0.49423369, 0.50576631],\n",
       "       [0.50872007, 0.49127993],\n",
       "       [0.57742467, 0.42257533],\n",
       "       [0.37031034, 0.62968966],\n",
       "       [0.78641443, 0.21358557],\n",
       "       [0.69496596, 0.30503404],\n",
       "       [0.12844846, 0.87155154],\n",
       "       [0.31254747, 0.68745253],\n",
       "       [0.54077257, 0.45922743],\n",
       "       [0.70541088, 0.29458912],\n",
       "       [0.20172974, 0.79827026],\n",
       "       [0.14580155, 0.85419845],\n",
       "       [0.36098373, 0.63901627],\n",
       "       [0.78333951, 0.21666049],\n",
       "       [0.27851814, 0.72148186],\n",
       "       [0.15492008, 0.84507992],\n",
       "       [0.40890714, 0.59109286],\n",
       "       [0.7736623 , 0.2263377 ],\n",
       "       [0.75700615, 0.24299385],\n",
       "       [0.39088464, 0.60911536],\n",
       "       [0.15529335, 0.84470665],\n",
       "       [0.15848165, 0.84151835],\n",
       "       [0.78259071, 0.21740929],\n",
       "       [0.60982053, 0.39017947],\n",
       "       [0.41623701, 0.58376299],\n",
       "       [0.45101468, 0.54898532],\n",
       "       [0.63422503, 0.36577497],\n",
       "       [0.7577898 , 0.2422102 ],\n",
       "       [0.60745519, 0.39254481],\n",
       "       [0.3752726 , 0.6247274 ],\n",
       "       [0.71814618, 0.28185382],\n",
       "       [0.38402274, 0.61597726],\n",
       "       [0.39229074, 0.60770926],\n",
       "       [0.31832487, 0.68167513],\n",
       "       [0.52783957, 0.47216043]])"
      ]
     },
     "execution_count": 87,
     "metadata": {},
     "output_type": "execute_result"
    }
   ],
   "source": [
    "Y1_prob = cls1.predict_proba(X1)\n",
    "Y1_prob"
   ]
  },
  {
   "cell_type": "code",
   "execution_count": 88,
   "metadata": {},
   "outputs": [
    {
     "data": {
      "text/plain": [
       "array([1, 0, 0, 1, 0, 0, 0, 1, 1, 1, 1, 0, 0, 0, 0, 1, 0, 1, 0, 0, 1, 0,\n",
       "       0, 0, 1, 1, 0, 1, 0, 1, 1, 1, 0, 1, 0, 1, 0, 0, 1, 0, 0, 0, 0, 1,\n",
       "       0, 1, 0, 0, 0, 0, 1, 1, 1, 0, 0, 1, 0, 0, 1, 1, 1, 1, 0, 0, 1, 1,\n",
       "       0, 0, 1, 0, 1, 1, 1, 1, 0, 1, 1, 1, 1, 0, 0, 1, 1, 0, 1, 1, 0, 1,\n",
       "       1, 0, 0, 1, 1, 0, 0, 0, 1, 0, 0, 0, 1, 1, 0, 0, 0, 1, 1, 0, 0, 1,\n",
       "       1, 1, 0, 1, 0, 0, 0, 1])"
      ]
     },
     "execution_count": 88,
     "metadata": {},
     "output_type": "execute_result"
    }
   ],
   "source": [
    "Y1_hat = cls1.predict(X1)\n",
    "Y1_hat"
   ]
  },
  {
   "cell_type": "code",
   "execution_count": 89,
   "metadata": {},
   "outputs": [
    {
     "data": {
      "text/plain": [
       "0.6864406779661016"
      ]
     },
     "execution_count": 89,
     "metadata": {},
     "output_type": "execute_result"
    }
   ],
   "source": [
    "accuracy_score(Y1, Y1_hat)"
   ]
  },
  {
   "cell_type": "code",
   "execution_count": 90,
   "metadata": {},
   "outputs": [
    {
     "data": {
      "image/png": "[encoded data removed]",
      "text/plain": [
       "<Figure size 432x288 with 1 Axes>"
      ]
     },
     "metadata": {
      "needs_background": "light"
     },
     "output_type": "display_data"
    }
   ],
   "source": [
    "plot_data(X1, Y1)\n",
    "plot_surface(cls1, X1[:, 0], X1[:, 1])"
   ]
  },
  {
   "cell_type": "markdown",
   "metadata": {},
   "source": [
    "Зверніть увагу на границю прийняття рішення. Модель старається побудувати складну криву, що може свідчити про її перетренування. Порівняйте отримані результати з класом з sklearn. Спробуйте додати нові шари для нашого класу та порівняти результати тоді. Поекспериментуйте з гіперпараметрами для обох класів."
   ]
  },
  {
   "cell_type": "code",
   "execution_count": 40,
   "metadata": {},
   "outputs": [],
   "source": [
    "from sklearn.neural_network import MLPClassifier\n",
    "clf1 = MLPClassifier(hidden_layer_sizes = (20,20), max_iter = 10000, activation = 'relu', solver = 'sgd', learning_rate_init = 0.01, learning_rate = 'constant')"
   ]
  },
  {
   "cell_type": "code",
   "execution_count": 41,
   "metadata": {},
   "outputs": [
    {
     "data": {
      "text/plain": [
       "MLPClassifier(hidden_layer_sizes=(20, 20), learning_rate_init=0.01,\n",
       "              max_iter=10000, solver='sgd')"
      ]
     },
     "execution_count": 41,
     "metadata": {},
     "output_type": "execute_result"
    }
   ],
   "source": [
    "clf1.fit(X, Y)"
   ]
  },
  {
   "cell_type": "code",
   "execution_count": 42,
   "metadata": {
    "scrolled": true
   },
   "outputs": [
    {
     "data": {
      "image/png": "[encoded data removed]",
      "text/plain": [
       "<Figure size 432x288 with 1 Axes>"
      ]
     },
     "metadata": {
      "needs_background": "light"
     },
     "output_type": "display_data"
    }
   ],
   "source": [
    "plot_data(X, Y)\n",
    "plot_surface(clf1, X[:, 0], X[:, 1])"
   ]
  },
  {
   "cell_type": "code",
   "execution_count": 44,
   "metadata": {},
   "outputs": [
    {
     "data": {
      "text/plain": [
       "0.864406779661017"
      ]
     },
     "execution_count": 44,
     "metadata": {},
     "output_type": "execute_result"
    }
   ],
   "source": [
    "accuracy_score(Y, clf1.predict(X))"
   ]
  },
  {
   "cell_type": "code",
   "execution_count": 46,
   "metadata": {},
   "outputs": [
    {
     "data": {
      "text/plain": [
       "822"
      ]
     },
     "execution_count": 46,
     "metadata": {},
     "output_type": "execute_result"
    }
   ],
   "source": [
    "clf1.n_iter_"
   ]
  },
  {
   "cell_type": "markdown",
   "metadata": {},
   "source": [
    "# Датасет 2 "
   ]
  },
  {
   "cell_type": "code",
   "execution_count": 21,
   "metadata": {},
   "outputs": [
    {
     "name": "stdout",
     "output_type": "stream",
     "text": [
      "Training set: X=(100, 2), y=(100,)\n"
     ]
    }
   ],
   "source": [
    "data_columns = [\"exam1\", \"exam2\"]\n",
    "target_column = \"submitted\"\n",
    "df = pd.read_csv(\"sats.csv\")\n",
    "X, Y = df[data_columns].values, df[target_column]#reshape((df.shape[0], 1))\n",
    "print('Training set: X={}, y={}'.format(X.shape, Y.shape))"
   ]
  },
  {
   "cell_type": "code",
   "execution_count": 22,
   "metadata": {},
   "outputs": [
    {
     "data": {
      "image/png": "[encoded data removed]",
      "text/plain": [
       "<Figure size 432x288 with 1 Axes>"
      ]
     },
     "metadata": {
      "needs_background": "light"
     },
     "output_type": "display_data"
    }
   ],
   "source": [
    "plot_data(X, Y)"
   ]
  },
  {
   "cell_type": "code",
   "execution_count": 23,
   "metadata": {},
   "outputs": [
    {
     "name": "stdout",
     "output_type": "stream",
     "text": [
      "Layers: 3\n"
     ]
    }
   ],
   "source": [
    "cls = NeuralNet(layers_sizes = [5,5], normalize = True, learning_rate = 0.1, num_iter = 12001, tol = 1e-7, costs_iters=500)"
   ]
  },
  {
   "cell_type": "code",
   "execution_count": 24,
   "metadata": {},
   "outputs": [
    {
     "name": "stdout",
     "output_type": "stream",
     "text": [
      "W1: (5, 2)\n",
      "W2: (5, 5)\n",
      "W3: (1, 5)\n",
      "b1: (5, 1)\n",
      "b2: (5, 1)\n",
      "b3: (1, 1)\n",
      "0-th iteration: 0.6925847318501446\n",
      "1000-th iteration: 0.6730073972118618\n",
      "2000-th iteration: 0.6729977752086765\n",
      "3000-th iteration: 0.6729722870110233\n",
      "4000-th iteration: 0.6728924947863166\n",
      "5000-th iteration: 0.6725544638758308\n",
      "6000-th iteration: 0.6692673706065395\n",
      "7000-th iteration: 0.4002916516900992\n",
      "8000-th iteration: 0.22877119916139638\n",
      "9000-th iteration: 0.20523439955507017\n",
      "10000-th iteration: 0.14924060314963078\n",
      "11000-th iteration: 0.10849435209796489\n",
      "12000-th iteration: 0.08223530730653249\n"
     ]
    },
    {
     "data": {
      "image/png": "[encoded data removed]",
      "text/plain": [
       "<Figure size 432x288 with 1 Axes>"
      ]
     },
     "metadata": {
      "needs_background": "light"
     },
     "output_type": "display_data"
    }
   ],
   "source": [
    "cls.fit(X, Y.values.reshape((df.shape[0], 1)))"
   ]
  },
  {
   "cell_type": "code",
   "execution_count": 25,
   "metadata": {},
   "outputs": [
    {
     "name": "stdout",
     "output_type": "stream",
     "text": [
      "{'W': [array([[ 1.57460199,  0.9781168 ],\n",
      "       [ 0.67856351,  2.53282381],\n",
      "       [-3.82010806, -1.06072973],\n",
      "       [ 0.05082486,  0.05429238],\n",
      "       [-0.67598941, -2.69291453]]), array([[ 0.65787353,  1.06807766, -2.00351404, -0.09600768, -1.4352322 ],\n",
      "       [ 1.18967185,  2.03926686, -3.60827663, -0.02143039, -2.36510158],\n",
      "       [ 1.0042308 ,  1.66985578, -2.99449514, -0.04857657, -2.01303319],\n",
      "       [ 0.9790071 ,  1.6079975 , -2.90703721, -0.06219435, -1.97786179],\n",
      "       [ 0.54792683,  0.89993558, -1.73426961, -0.12853885, -1.28028872]]), array([[1.9765088 , 4.66123689, 3.59560955, 3.45300237, 1.56515445]])], 'b': [array([[ 0.48331987],\n",
      "       [ 1.94321473],\n",
      "       [-2.89416368],\n",
      "       [ 0.00665105],\n",
      "       [-2.16665042]]), array([[-0.34180342],\n",
      "       [-0.22751841],\n",
      "       [-0.26476208],\n",
      "       [-0.25604657],\n",
      "       [-0.34777637]]), array([[-6.14368469]])]}\n"
     ]
    }
   ],
   "source": [
    "print(cls.parameters)"
   ]
  },
  {
   "cell_type": "code",
   "execution_count": 26,
   "metadata": {
    "scrolled": true
   },
   "outputs": [
    {
     "data": {
      "text/plain": [
       "array([[3.98776642e-02, 9.60122336e-01],\n",
       "       [2.57111704e-03, 9.97428883e-01],\n",
       "       [2.43122014e-02, 9.75687799e-01],\n",
       "       [9.98935690e-01, 1.06430994e-03],\n",
       "       [9.99243550e-01, 7.56449904e-04],\n",
       "       [5.33191868e-03, 9.94668081e-01],\n",
       "       [9.99211513e-01, 7.88486816e-04],\n",
       "       [5.26276647e-01, 4.73723353e-01],\n",
       "       [9.99336241e-01, 6.63759026e-04],\n",
       "       [6.28596824e-01, 3.71403176e-01],\n",
       "       [4.87812644e-01, 5.12187356e-01],\n",
       "       [1.65622607e-02, 9.83437739e-01],\n",
       "       [9.99294118e-01, 7.05881734e-04],\n",
       "       [9.99339851e-01, 6.60149110e-04],\n",
       "       [7.49054845e-02, 9.25094516e-01],\n",
       "       [9.98157639e-01, 1.84236053e-03],\n",
       "       [8.63904409e-01, 1.36095591e-01],\n",
       "       [1.49616321e-01, 8.50383679e-01],\n",
       "       [9.99326301e-01, 6.73699429e-04],\n",
       "       [7.49014675e-01, 2.50985325e-01],\n",
       "       [3.65634687e-02, 9.63436531e-01],\n",
       "       [9.99142818e-01, 8.57182207e-04],\n",
       "       [4.06757070e-03, 9.95932429e-01],\n",
       "       [2.60274543e-03, 9.97397255e-01],\n",
       "       [9.99024903e-01, 9.75096599e-04],\n",
       "       [9.97246378e-01, 2.75362214e-03],\n",
       "       [5.86707713e-01, 4.13292287e-01],\n",
       "       [4.49325574e-01, 5.50674426e-01],\n",
       "       [8.86819094e-02, 9.11318091e-01],\n",
       "       [1.00125411e-02, 9.89987459e-01],\n",
       "       [9.97781901e-01, 2.21809926e-03],\n",
       "       [9.97551586e-01, 2.44841359e-03],\n",
       "       [2.78419024e-01, 7.21580976e-01],\n",
       "       [8.68574543e-01, 1.31425457e-01],\n",
       "       [3.68818186e-02, 9.63118181e-01],\n",
       "       [1.31368003e-02, 9.86863200e-01],\n",
       "       [2.66451381e-01, 7.33548619e-01],\n",
       "       [9.98990759e-01, 1.00924112e-03],\n",
       "       [1.10497679e-01, 8.89502321e-01],\n",
       "       [2.73406322e-02, 9.72659368e-01],\n",
       "       [9.96804232e-01, 3.19576774e-03],\n",
       "       [3.81462122e-03, 9.96185379e-01],\n",
       "       [9.99201474e-01, 7.98525714e-04],\n",
       "       [2.45038838e-01, 7.54961162e-01],\n",
       "       [3.49205241e-03, 9.96507948e-01],\n",
       "       [2.25107758e-01, 7.74892242e-01],\n",
       "       [9.99073929e-01, 9.26071453e-04],\n",
       "       [9.99397007e-01, 6.02992545e-04],\n",
       "       [9.99238253e-01, 7.61746671e-04],\n",
       "       [9.99392068e-01, 6.07932172e-04],\n",
       "       [9.99233725e-01, 7.66275088e-04],\n",
       "       [9.99083815e-01, 9.16185004e-04],\n",
       "       [8.22518120e-01, 1.77481880e-01],\n",
       "       [4.53072658e-03, 9.95469273e-01],\n",
       "       [4.30464923e-03, 9.95695351e-01],\n",
       "       [2.60363349e-02, 9.73963665e-01],\n",
       "       [9.99300236e-01, 6.99763624e-04],\n",
       "       [1.41849651e-01, 8.58150349e-01],\n",
       "       [9.98942744e-01, 1.05725592e-03],\n",
       "       [9.99184162e-01, 8.15838301e-04],\n",
       "       [9.99321020e-01, 6.78980033e-04],\n",
       "       [2.68887347e-03, 9.97311127e-01],\n",
       "       [3.57456142e-03, 9.96425439e-01],\n",
       "       [2.71595498e-03, 9.97284045e-01],\n",
       "       [3.86911449e-02, 9.61308855e-01],\n",
       "       [2.03339484e-02, 9.79666052e-01],\n",
       "       [8.85650261e-01, 1.14349739e-01],\n",
       "       [4.69476758e-03, 9.95305232e-01],\n",
       "       [9.99373913e-01, 6.26086840e-04],\n",
       "       [9.92079690e-01, 7.92031024e-03],\n",
       "       [2.57574772e-03, 9.97424252e-01],\n",
       "       [9.98850212e-01, 1.14978782e-03],\n",
       "       [9.99352898e-01, 6.47101751e-04],\n",
       "       [9.97522584e-01, 2.47741601e-03],\n",
       "       [9.97599411e-01, 2.40058850e-03],\n",
       "       [9.99348822e-01, 6.51178199e-04],\n",
       "       [9.83634772e-01, 1.63652278e-02],\n",
       "       [9.53459929e-01, 4.65400706e-02],\n",
       "       [7.51647294e-03, 9.92483527e-01],\n",
       "       [4.34199484e-01, 5.65800516e-01],\n",
       "       [9.99248825e-01, 7.51175060e-04],\n",
       "       [9.65702579e-01, 3.42974209e-02],\n",
       "       [9.97739683e-01, 2.26031746e-03],\n",
       "       [5.88906586e-01, 4.11093414e-01],\n",
       "       [9.99371016e-01, 6.28984238e-04],\n",
       "       [9.99235468e-01, 7.64532217e-04],\n",
       "       [2.59947605e-01, 7.40052395e-01],\n",
       "       [9.99347268e-01, 6.52731814e-04],\n",
       "       [9.99379538e-01, 6.20462441e-04],\n",
       "       [1.22586024e-01, 8.77413976e-01],\n",
       "       [9.99361773e-01, 6.38226775e-04],\n",
       "       [9.99388046e-01, 6.11954331e-04],\n",
       "       [3.07704842e-03, 9.96922952e-01],\n",
       "       [9.99306550e-01, 6.93450478e-04],\n",
       "       [9.17277045e-01, 8.27229552e-02],\n",
       "       [9.43692709e-01, 5.63072912e-02],\n",
       "       [7.08857468e-01, 2.91142532e-01],\n",
       "       [9.99308550e-01, 6.91450092e-04],\n",
       "       [8.83632207e-01, 1.16367793e-01],\n",
       "       [9.99338732e-01, 6.61268343e-04]])"
      ]
     },
     "execution_count": 26,
     "metadata": {},
     "output_type": "execute_result"
    }
   ],
   "source": [
    "Y_prob = cls.predict_proba(X)\n",
    "Y_prob"
   ]
  },
  {
   "cell_type": "code",
   "execution_count": 27,
   "metadata": {},
   "outputs": [
    {
     "data": {
      "text/plain": [
       "array([0, 0, 0, 1, 1, 0, 1, 1, 1, 1, 0, 0, 1, 1, 0, 1, 1, 0, 1, 1, 0, 1,\n",
       "       0, 0, 1, 1, 1, 0, 0, 0, 1, 1, 0, 1, 0, 0, 0, 1, 0, 0, 1, 0, 1, 0,\n",
       "       0, 0, 1, 1, 1, 1, 1, 1, 1, 0, 0, 0, 1, 0, 1, 1, 1, 0, 0, 0, 0, 0,\n",
       "       1, 0, 1, 1, 0, 1, 1, 1, 1, 1, 1, 1, 0, 0, 1, 1, 1, 1, 1, 1, 0, 1,\n",
       "       1, 0, 1, 1, 0, 1, 1, 1, 1, 1, 1, 1])"
      ]
     },
     "execution_count": 27,
     "metadata": {},
     "output_type": "execute_result"
    }
   ],
   "source": [
    "Y_hat = cls.predict(X)\n",
    "Y_hat"
   ]
  },
  {
   "cell_type": "code",
   "execution_count": 28,
   "metadata": {},
   "outputs": [
    {
     "data": {
      "text/plain": [
       "1.0"
      ]
     },
     "execution_count": 28,
     "metadata": {},
     "output_type": "execute_result"
    }
   ],
   "source": [
    "accuracy_score(Y, Y_hat)"
   ]
  },
  {
   "cell_type": "code",
   "execution_count": 29,
   "metadata": {},
   "outputs": [
    {
     "data": {
      "image/png": "[encoded data removed]",
      "text/plain": [
       "<Figure size 432x288 with 1 Axes>"
      ]
     },
     "metadata": {
      "needs_background": "light"
     },
     "output_type": "display_data"
    }
   ],
   "source": [
    "plot_data(X, Y)\n",
    "plot_surface(cls, X[:, 0], X[:, 1])"
   ]
  },
  {
   "cell_type": "code",
   "execution_count": null,
   "metadata": {},
   "outputs": [],
   "source": []
  }
 ],
 "metadata": {
  "anaconda-cloud": {},
  "kernelspec": {
   "display_name": "Python 3 (ipykernel)",
   "language": "python",
   "name": "python3"
  },
  "language_info": {
   "codemirror_mode": {
    "name": "ipython",
    "version": 3
   },
   "file_extension": ".py",
   "mimetype": "text/x-python",
   "name": "python",
   "nbconvert_exporter": "python",
   "pygments_lexer": "ipython3",
   "version": "3.9.7"
  }
 },
 "nbformat": 4,
 "nbformat_minor": 1
}